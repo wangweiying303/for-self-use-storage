{
 "cells": [
  {
   "cell_type": "code",
   "execution_count": 1,
   "id": "fe91294b",
   "metadata": {},
   "outputs": [],
   "source": [
    "from sympy import symbols\n",
    "from sympy.matrices import Matrix\n",
    "from sympy import solve\n",
    "from sympy import *"
   ]
  },
  {
   "cell_type": "code",
   "execution_count": 30,
   "id": "7e7ea04b",
   "metadata": {},
   "outputs": [],
   "source": [
    "eva, uva, uvv, phi, a, theta, gam, A, K, I_h, N_h = symbols(\"epsilon^V_A, mu^V_A, mu^V_V, phi, a, theta, gamma, A, K, I_h ,N_h\")"
   ]
  },
  {
   "cell_type": "code",
   "execution_count": 31,
   "id": "ead86b5a",
   "metadata": {},
   "outputs": [],
   "source": [
    "M = Matrix([[1-eva-uva, eva, 0, 0, uva],\n",
    "           [theta*(1-A/K), 1-a*theta*I_h/N_h-uvv, a*theta*I_h/N_h, 0, uvv],\n",
    "           [theta*(1-A/K), 0, 1-gam-uvv, gam, uvv],\n",
    "           [theta*(1-A/K),0,0,1-uvv, uvv],\n",
    "           [0,0,0,0,1]])"
   ]
  },
  {
   "cell_type": "code",
   "execution_count": 32,
   "id": "133acec5",
   "metadata": {
    "scrolled": true
   },
   "outputs": [
    {
     "name": "stdout",
     "output_type": "stream",
     "text": [
      "1\n",
      "theta*(-A/K + 1) + 1\n",
      "theta*(-A/K + 1) + 1\n",
      "theta*(-A/K + 1) + 1\n",
      "1\n"
     ]
    }
   ],
   "source": [
    "for i in range(5):\n",
    "    print(sum(M[i,:]))"
   ]
  },
  {
   "cell_type": "code",
   "execution_count": 45,
   "id": "f1826883",
   "metadata": {},
   "outputs": [],
   "source": [
    "first_four = Matrix([M[0, :], M[1, :], M[2, :], M[3, :]])"
   ]
  },
  {
   "cell_type": "code",
   "execution_count": 46,
   "id": "40621d2c",
   "metadata": {},
   "outputs": [
    {
     "data": {
      "text/latex": [
       "$\\displaystyle \\left[\\begin{matrix}- \\epsilon^{V}_{A} - \\mu^{V}_{A} + 1 & \\epsilon^{V}_{A} & 0 & 0 & \\mu^{V}_{A}\\\\\\theta \\left(- \\frac{A}{K} + 1\\right) & - \\frac{I_{h} a \\theta}{N_{h}} - \\mu^{V}_{V} + 1 & \\frac{I_{h} a \\theta}{N_{h}} & 0 & \\mu^{V}_{V}\\\\\\theta \\left(- \\frac{A}{K} + 1\\right) & 0 & - \\gamma - \\mu^{V}_{V} + 1 & \\gamma & \\mu^{V}_{V}\\\\\\theta \\left(- \\frac{A}{K} + 1\\right) & 0 & 0 & 1 - \\mu^{V}_{V} & \\mu^{V}_{V}\\\\0 & 0 & 0 & 0 & 1\\end{matrix}\\right]$"
      ],
      "text/plain": [
       "⎡-ε_A__V - μ_A__V + 1         ε_A__V                 0             0       μ_A\n",
       "⎢                                                                             \n",
       "⎢      ⎛  A    ⎞         Iₕ⋅a⋅θ                   Iₕ⋅a⋅θ                      \n",
       "⎢    θ⋅⎜- ─ + 1⎟       - ────── - μ_V__V + 1      ──────           0       μ_V\n",
       "⎢      ⎝  K    ⎠           Nₕ                       Nₕ                        \n",
       "⎢                                                                             \n",
       "⎢      ⎛  A    ⎞                                                              \n",
       "⎢    θ⋅⎜- ─ + 1⎟                 0            -γ - μ_V__V + 1      γ       μ_V\n",
       "⎢      ⎝  K    ⎠                                                              \n",
       "⎢                                                                             \n",
       "⎢      ⎛  A    ⎞                                                              \n",
       "⎢    θ⋅⎜- ─ + 1⎟                 0                   0         1 - μ_V__V  μ_V\n",
       "⎢      ⎝  K    ⎠                                                              \n",
       "⎢                                                                             \n",
       "⎣         0                      0                   0             0         1\n",
       "\n",
       "__V⎤\n",
       "   ⎥\n",
       "   ⎥\n",
       "__V⎥\n",
       "   ⎥\n",
       "   ⎥\n",
       "   ⎥\n",
       "__V⎥\n",
       "   ⎥\n",
       "   ⎥\n",
       "   ⎥\n",
       "__V⎥\n",
       "   ⎥\n",
       "   ⎥\n",
       "   ⎦"
      ]
     },
     "execution_count": 46,
     "metadata": {},
     "output_type": "execute_result"
    }
   ],
   "source": [
    "M"
   ]
  },
  {
   "cell_type": "code",
   "execution_count": 47,
   "id": "a1adfe95",
   "metadata": {},
   "outputs": [
    {
     "data": {
      "text/latex": [
       "$\\displaystyle \\left[\\begin{matrix}- \\epsilon^{V}_{A} - \\mu^{V}_{A} + 1 & \\epsilon^{V}_{A} & 0 & 0 & \\mu^{V}_{A}\\\\\\theta \\left(- \\frac{A}{K} + 1\\right) & - \\frac{I_{h} a \\theta}{N_{h}} - \\mu^{V}_{V} + 1 & \\frac{I_{h} a \\theta}{N_{h}} & 0 & \\mu^{V}_{V}\\\\\\theta \\left(- \\frac{A}{K} + 1\\right) & 0 & - \\gamma - \\mu^{V}_{V} + 1 & \\gamma & \\mu^{V}_{V}\\\\\\theta \\left(- \\frac{A}{K} + 1\\right) & 0 & 0 & 1 - \\mu^{V}_{V} & \\mu^{V}_{V}\\end{matrix}\\right]$"
      ],
      "text/plain": [
       "⎡-ε_A__V - μ_A__V + 1         ε_A__V                 0             0       μ_A\n",
       "⎢                                                                             \n",
       "⎢      ⎛  A    ⎞         Iₕ⋅a⋅θ                   Iₕ⋅a⋅θ                      \n",
       "⎢    θ⋅⎜- ─ + 1⎟       - ────── - μ_V__V + 1      ──────           0       μ_V\n",
       "⎢      ⎝  K    ⎠           Nₕ                       Nₕ                        \n",
       "⎢                                                                             \n",
       "⎢      ⎛  A    ⎞                                                              \n",
       "⎢    θ⋅⎜- ─ + 1⎟                 0            -γ - μ_V__V + 1      γ       μ_V\n",
       "⎢      ⎝  K    ⎠                                                              \n",
       "⎢                                                                             \n",
       "⎢      ⎛  A    ⎞                                                              \n",
       "⎢    θ⋅⎜- ─ + 1⎟                 0                   0         1 - μ_V__V  μ_V\n",
       "⎣      ⎝  K    ⎠                                                              \n",
       "\n",
       "__V⎤\n",
       "   ⎥\n",
       "   ⎥\n",
       "__V⎥\n",
       "   ⎥\n",
       "   ⎥\n",
       "   ⎥\n",
       "__V⎥\n",
       "   ⎥\n",
       "   ⎥\n",
       "   ⎥\n",
       "__V⎥\n",
       "   ⎦"
      ]
     },
     "execution_count": 47,
     "metadata": {},
     "output_type": "execute_result"
    }
   ],
   "source": [
    "first_four"
   ]
  },
  {
   "cell_type": "code",
   "execution_count": 48,
   "id": "d0b689ea",
   "metadata": {},
   "outputs": [],
   "source": [
    "S, E, I, D = symbols(\"S, E, I, D\")"
   ]
  },
  {
   "cell_type": "code",
   "execution_count": 49,
   "id": "55466c10",
   "metadata": {},
   "outputs": [],
   "source": [
    "v = Matrix([[A,S,E,I]])"
   ]
  },
  {
   "cell_type": "code",
   "execution_count": 92,
   "id": "6063bdd4",
   "metadata": {},
   "outputs": [
    {
     "data": {
      "image/png": "[encoded data removed]",
      "text/latex": [
       "$\\displaystyle \\frac{A K \\left(- \\epsilon^{V}_{A} - \\mu^{V}_{A}\\right) - E \\theta \\left(A - K\\right) - I \\theta \\left(A - K\\right) - S \\theta \\left(A - K\\right)}{K}$"
      ],
      "text/plain": [
       "A⋅K⋅(-ε_A__V - μ_A__V) - E⋅θ⋅(A - K) - I⋅θ⋅(A - K) - S⋅θ⋅(A - K)\n",
       "────────────────────────────────────────────────────────────────\n",
       "                               K                                "
      ]
     },
     "execution_count": 92,
     "metadata": {},
     "output_type": "execute_result"
    }
   ],
   "source": [
    "simplify((Matrix((first_four.T*v.T)[:-1])-v.T)[0])"
   ]
  },
  {
   "cell_type": "code",
   "execution_count": 91,
   "id": "85c41e68",
   "metadata": {},
   "outputs": [
    {
     "data": {
      "text/latex": [
       "$\\displaystyle \\left[\\begin{matrix}A \\left(- \\epsilon^{V}_{A} - \\mu^{V}_{A} + 1\\right) - A + E \\theta \\left(- \\frac{A}{K} + 1\\right) + I \\theta \\left(- \\frac{A}{K} + 1\\right) + S \\theta \\left(- \\frac{A}{K} + 1\\right)\\\\A \\epsilon^{V}_{A} + S \\left(- \\frac{I_{h} a \\theta}{N_{h}} - \\mu^{V}_{V} + 1\\right) - S\\\\E \\left(- \\gamma - \\mu^{V}_{V} + 1\\right) - E + \\frac{I_{h} S a \\theta}{N_{h}}\\\\E \\gamma + I \\left(1 - \\mu^{V}_{V}\\right) - I\\end{matrix}\\right]$"
      ],
      "text/plain": [
       "⎡                                   ⎛  A    ⎞       ⎛  A    ⎞       ⎛  A    ⎞⎤\n",
       "⎢A⋅(-ε_A__V - μ_A__V + 1) - A + E⋅θ⋅⎜- ─ + 1⎟ + I⋅θ⋅⎜- ─ + 1⎟ + S⋅θ⋅⎜- ─ + 1⎟⎥\n",
       "⎢                                   ⎝  K    ⎠       ⎝  K    ⎠       ⎝  K    ⎠⎥\n",
       "⎢                                                                            ⎥\n",
       "⎢                               ⎛  Iₕ⋅a⋅θ             ⎞                      ⎥\n",
       "⎢                  A⋅ε_A__V + S⋅⎜- ────── - μ_V__V + 1⎟ - S                  ⎥\n",
       "⎢                               ⎝    Nₕ               ⎠                      ⎥\n",
       "⎢                                                                            ⎥\n",
       "⎢                                               Iₕ⋅S⋅a⋅θ                     ⎥\n",
       "⎢                     E⋅(-γ - μ_V__V + 1) - E + ────────                     ⎥\n",
       "⎢                                                  Nₕ                        ⎥\n",
       "⎢                                                                            ⎥\n",
       "⎣                          E⋅γ + I⋅(1 - μ_V__V) - I                          ⎦"
      ]
     },
     "execution_count": 91,
     "metadata": {},
     "output_type": "execute_result"
    }
   ],
   "source": [
    "Matrix((first_four.T*v.T)[:-1])-v.T"
   ]
  },
  {
   "cell_type": "code",
   "execution_count": null,
   "id": "184bd325",
   "metadata": {},
   "outputs": [],
   "source": []
  },
  {
   "cell_type": "code",
   "execution_count": 78,
   "id": "57e5d225",
   "metadata": {},
   "outputs": [],
   "source": [
    "sol = solve(Matrix((first_four.T*v.T)[:-1])-v.T, [A,S,E,I,D], dict=True)"
   ]
  },
  {
   "cell_type": "code",
   "execution_count": 79,
   "id": "b9527a20",
   "metadata": {},
   "outputs": [],
   "source": [
    "init_printing()"
   ]
  },
  {
   "cell_type": "code",
   "execution_count": 87,
   "id": "e7f722f3",
   "metadata": {},
   "outputs": [
    {
     "data": {
      "image/png": "[encoded data removed]",
      "text/latex": [
       "$\\displaystyle - \\frac{I_{h} K a \\gamma \\left(\\epsilon^{V}_{A} \\mu^{V}_{V} - \\epsilon^{V}_{A} \\theta + \\mu^{V}_{A} \\mu^{V}_{V}\\right)}{\\mu^{V}_{V} \\left(\\gamma + \\mu^{V}_{V}\\right) \\left(I_{h} a \\theta + N_{h} \\mu^{V}_{V}\\right)} - \\frac{I_{h} K a \\left(\\epsilon^{V}_{A} \\mu^{V}_{V} - \\epsilon^{V}_{A} \\theta + \\mu^{V}_{A} \\mu^{V}_{V}\\right)}{\\left(\\gamma + \\mu^{V}_{V}\\right) \\left(I_{h} a \\theta + N_{h} \\mu^{V}_{V}\\right)} - \\frac{K N_{h} \\left(\\epsilon^{V}_{A} \\mu^{V}_{V} - \\epsilon^{V}_{A} \\theta + \\mu^{V}_{A} \\mu^{V}_{V}\\right)}{\\theta \\left(I_{h} a \\theta + N_{h} \\mu^{V}_{V}\\right)}$"
      ],
      "text/plain": [
       "  Iₕ⋅K⋅a⋅γ⋅(ε_A__V⋅μ_V__V - ε_A__V⋅θ + μ_A__V⋅μ_V__V)   Iₕ⋅K⋅a⋅(ε_A__V⋅μ_V__V \n",
       "- ─────────────────────────────────────────────────── - ──────────────────────\n",
       "        μ_V__V⋅(γ + μ_V__V)⋅(Iₕ⋅a⋅θ + Nₕ⋅μ_V__V)                (γ + μ_V__V)⋅(\n",
       "\n",
       "- ε_A__V⋅θ + μ_A__V⋅μ_V__V)   K⋅Nₕ⋅(ε_A__V⋅μ_V__V - ε_A__V⋅θ + μ_A__V⋅μ_V__V)\n",
       "─────────────────────────── - ───────────────────────────────────────────────\n",
       "Iₕ⋅a⋅θ + Nₕ⋅μ_V__V)                        θ⋅(Iₕ⋅a⋅θ + Nₕ⋅μ_V__V)            "
      ]
     },
     "execution_count": 87,
     "metadata": {},
     "output_type": "execute_result"
    }
   ],
   "source": [
    "sol[1][E]+sol[1][I]+sol[1][S]"
   ]
  },
  {
   "cell_type": "code",
   "execution_count": 98,
   "id": "69f01978",
   "metadata": {},
   "outputs": [
    {
     "data": {
      "image/png": "[encoded data removed]",
      "text/latex": [
       "$\\displaystyle \\left[ \\left\\{ A : 0, \\  E : 0, \\  I : 0, \\  S : 0\\right\\}, \\  \\left\\{ A : - \\frac{K \\left(\\epsilon^{V}_{A} \\mu^{V}_{V} - \\epsilon^{V}_{A} \\theta + \\mu^{V}_{A} \\mu^{V}_{V}\\right)}{\\epsilon^{V}_{A} \\theta}, \\  E : - \\frac{I_{h} K a \\left(\\epsilon^{V}_{A} \\mu^{V}_{V} - \\epsilon^{V}_{A} \\theta + \\mu^{V}_{A} \\mu^{V}_{V}\\right)}{\\left(\\gamma + \\mu^{V}_{V}\\right) \\left(I_{h} a \\theta + N_{h} \\mu^{V}_{V}\\right)}, \\  I : - \\frac{I_{h} K a \\gamma \\left(\\epsilon^{V}_{A} \\mu^{V}_{V} - \\epsilon^{V}_{A} \\theta + \\mu^{V}_{A} \\mu^{V}_{V}\\right)}{\\mu^{V}_{V} \\left(\\gamma + \\mu^{V}_{V}\\right) \\left(I_{h} a \\theta + N_{h} \\mu^{V}_{V}\\right)}, \\  S : - \\frac{K N_{h} \\left(\\epsilon^{V}_{A} \\mu^{V}_{V} - \\epsilon^{V}_{A} \\theta + \\mu^{V}_{A} \\mu^{V}_{V}\\right)}{\\theta \\left(I_{h} a \\theta + N_{h} \\mu^{V}_{V}\\right)}\\right\\}\\right]$"
      ],
      "text/plain": [
       "⎡                          ⎧   -K⋅(ε_A__V⋅μ_V__V - ε_A__V⋅θ + μ_A__V⋅μ_V__V)  \n",
       "⎢{A: 0, E: 0, I: 0, S: 0}, ⎨A: ──────────────────────────────────────────────,\n",
       "⎣                          ⎩                      ε_A__V⋅θ                    \n",
       "\n",
       "    -Iₕ⋅K⋅a⋅(ε_A__V⋅μ_V__V - ε_A__V⋅θ + μ_A__V⋅μ_V__V)      -Iₕ⋅K⋅a⋅γ⋅(ε_A__V⋅\n",
       " E: ───────────────────────────────────────────────────, I: ──────────────────\n",
       "             (γ + μ_V__V)⋅(Iₕ⋅a⋅θ + Nₕ⋅μ_V__V)                     μ_V__V⋅(γ +\n",
       "\n",
       "μ_V__V - ε_A__V⋅θ + μ_A__V⋅μ_V__V)      -K⋅Nₕ⋅(ε_A__V⋅μ_V__V - ε_A__V⋅θ + μ_A_\n",
       "───────────────────────────────────, S: ──────────────────────────────────────\n",
       " μ_V__V)⋅(Iₕ⋅a⋅θ + Nₕ⋅μ_V__V)                         θ⋅(Iₕ⋅a⋅θ + Nₕ⋅μ_V__V)  \n",
       "\n",
       "_V⋅μ_V__V) ⎫⎤\n",
       "───────────⎬⎥\n",
       "           ⎭⎦"
      ]
     },
     "execution_count": 98,
     "metadata": {},
     "output_type": "execute_result"
    }
   ],
   "source": [
    "sol"
   ]
  },
  {
   "cell_type": "code",
   "execution_count": 132,
   "id": "568ce64f",
   "metadata": {},
   "outputs": [
    {
     "data": {
      "image/png": "[encoded data removed]",
      "text/latex": [
       "$\\displaystyle \\frac{K \\left(- \\left(\\epsilon^{V}_{A}\\right)^{2} \\mu^{V}_{V} + \\left(\\epsilon^{V}_{A}\\right)^{2} \\theta - 2 \\epsilon^{V}_{A} \\mu^{V}_{A} \\mu^{V}_{V} + \\epsilon^{V}_{A} \\mu^{V}_{A} \\theta - \\left(\\mu^{V}_{A}\\right)^{2} \\mu^{V}_{V}\\right)}{\\epsilon^{V}_{A} \\theta}$"
      ],
      "text/plain": [
       "  ⎛        2                2                                                 \n",
       "K⋅⎝- ε_A__V ⋅μ_V__V + ε_A__V ⋅θ - 2⋅ε_A__V⋅μ_A__V⋅μ_V__V + ε_A__V⋅μ_A__V⋅θ - μ\n",
       "──────────────────────────────────────────────────────────────────────────────\n",
       "                                          ε_A__V⋅θ                            \n",
       "\n",
       "     2       ⎞\n",
       "_A__V ⋅μ_V__V⎠\n",
       "──────────────\n",
       "              "
      ]
     },
     "execution_count": 132,
     "metadata": {},
     "output_type": "execute_result"
    }
   ],
   "source": [
    "A_plus = simplify((theta*(1-A/K)*(sol[1][E]+sol[1][I]+sol[1][S])).subs({A:sol[1][A]}))\n",
    "A_plus"
   ]
  },
  {
   "cell_type": "code",
   "execution_count": 134,
   "id": "653c4a7f",
   "metadata": {},
   "outputs": [
    {
     "data": {
      "image/png": "[encoded data removed]",
      "text/latex": [
       "$\\displaystyle - \\frac{K \\left(\\epsilon^{V}_{A} + \\mu^{V}_{A}\\right) \\left(\\epsilon^{V}_{A} \\mu^{V}_{V} - \\epsilon^{V}_{A} \\theta + \\mu^{V}_{A} \\mu^{V}_{V}\\right)}{\\epsilon^{V}_{A} \\theta}$"
      ],
      "text/plain": [
       "-K⋅(ε_A__V + μ_A__V)⋅(ε_A__V⋅μ_V__V - ε_A__V⋅θ + μ_A__V⋅μ_V__V) \n",
       "────────────────────────────────────────────────────────────────\n",
       "                            ε_A__V⋅θ                            "
      ]
     },
     "execution_count": 134,
     "metadata": {},
     "output_type": "execute_result"
    }
   ],
   "source": [
    "A_minus = simplify(sol[1][A]*(eva+uva))\n",
    "A_minus"
   ]
  },
  {
   "cell_type": "code",
   "execution_count": 137,
   "id": "e1ebee82",
   "metadata": {},
   "outputs": [
    {
     "data": {
      "image/png": "[encoded data removed]",
      "text/latex": [
       "$\\displaystyle \\frac{K \\left(\\epsilon^{V}_{A} + \\mu^{V}_{A}\\right) \\left(\\epsilon^{V}_{A} \\mu^{V}_{V} - \\epsilon^{V}_{A} \\theta + \\mu^{V}_{A} \\mu^{V}_{V}\\right)}{\\epsilon^{V}_{A} \\theta} + \\frac{K \\left(- \\left(\\epsilon^{V}_{A}\\right)^{2} \\mu^{V}_{V} + \\left(\\epsilon^{V}_{A}\\right)^{2} \\theta - 2 \\epsilon^{V}_{A} \\mu^{V}_{A} \\mu^{V}_{V} + \\epsilon^{V}_{A} \\mu^{V}_{A} \\theta - \\left(\\mu^{V}_{A}\\right)^{2} \\mu^{V}_{V}\\right)}{\\epsilon^{V}_{A} \\theta}$"
      ],
      "text/plain": [
       "                                                                   ⎛        2 \n",
       "K⋅(ε_A__V + μ_A__V)⋅(ε_A__V⋅μ_V__V - ε_A__V⋅θ + μ_A__V⋅μ_V__V)   K⋅⎝- ε_A__V ⋅\n",
       "────────────────────────────────────────────────────────────── + ─────────────\n",
       "                           ε_A__V⋅θ                                           \n",
       "\n",
       "               2                                                      2       \n",
       "μ_V__V + ε_A__V ⋅θ - 2⋅ε_A__V⋅μ_A__V⋅μ_V__V + ε_A__V⋅μ_A__V⋅θ - μ_A__V ⋅μ_V__V\n",
       "──────────────────────────────────────────────────────────────────────────────\n",
       "                             ε_A__V⋅θ                                         \n",
       "\n",
       "⎞\n",
       "⎠\n",
       "─\n",
       " "
      ]
     },
     "execution_count": 137,
     "metadata": {},
     "output_type": "execute_result"
    }
   ],
   "source": [
    "A_plus - A_minus"
   ]
  },
  {
   "cell_type": "code",
   "execution_count": 136,
   "id": "66c45af2",
   "metadata": {},
   "outputs": [
    {
     "data": {
      "image/png": "[encoded data removed]",
      "text/latex": [
       "$\\displaystyle 0$"
      ],
      "text/plain": [
       "0"
      ]
     },
     "execution_count": 136,
     "metadata": {},
     "output_type": "execute_result"
    }
   ],
   "source": [
    "simplify(A_plus - A_minus)"
   ]
  },
  {
   "cell_type": "code",
   "execution_count": null,
   "id": "fd8ecc83",
   "metadata": {},
   "outputs": [],
   "source": []
  },
  {
   "cell_type": "code",
   "execution_count": 111,
   "id": "618c5cf5",
   "metadata": {},
   "outputs": [],
   "source": [
    "values = {eva:0.12, uva:0.13213, uvv:0.3718927389, phi:3819, a:0.3123, theta:390123, gam:391203,\n",
    "          K:381290391, I_h:3821903, N_h:3812903}\n",
    "values_2 = {A:float(sol[1][A].subs(values)), E:float(sol[1][E].subs(values)), \n",
    "            S:float(sol[1][S].subs(values)), I:float(sol[1][I].subs(values))}"
   ]
  },
  {
   "cell_type": "code",
   "execution_count": 112,
   "id": "92f4a151",
   "metadata": {},
   "outputs": [
    {
     "data": {
      "text/latex": [
       "$\\displaystyle \\left[\\begin{matrix}0.0103197733688489\\\\0\\\\-7.45058059692383 \\cdot 10^{-9}\\\\2.23517417907715 \\cdot 10^{-8}\\end{matrix}\\right]$"
      ],
      "text/plain": [
       "⎡ 0.0103197733688489 ⎤\n",
       "⎢                    ⎥\n",
       "⎢         0          ⎥\n",
       "⎢                    ⎥\n",
       "⎢-7.45058059692383e-9⎥\n",
       "⎢                    ⎥\n",
       "⎣2.23517417907715e-8 ⎦"
      ]
     },
     "execution_count": 112,
     "metadata": {},
     "output_type": "execute_result"
    }
   ],
   "source": [
    "(Matrix((first_four.T*v.T)[:-1])-v.T).subs(values).subs(values_2)"
   ]
  },
  {
   "cell_type": "code",
   "execution_count": null,
   "id": "83ff56a2",
   "metadata": {},
   "outputs": [],
   "source": []
  }
 ],
 "metadata": {
  "kernelspec": {
   "display_name": "Python 3 (ipykernel)",
   "language": "python",
   "name": "python3"
  },
  "language_info": {
   "codemirror_mode": {
    "name": "ipython",
    "version": 3
   },
   "file_extension": ".py",
   "mimetype": "text/x-python",
   "name": "python",
   "nbconvert_exporter": "python",
   "pygments_lexer": "ipython3",
   "version": "3.8.19"
  }
 },
 "nbformat": 4,
 "nbformat_minor": 5
}
