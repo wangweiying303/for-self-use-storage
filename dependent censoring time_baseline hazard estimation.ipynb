{
 "cells": [
  {
   "cell_type": "code",
   "execution_count": 1,
   "id": "f5f2a52c",
   "metadata": {},
   "outputs": [],
   "source": [
    "import numpy as np\n",
    "import scipy.optimize as OPT\n",
    "import matplotlib.pyplot as plt\n",
    "import scipy"
   ]
  },
  {
   "cell_type": "code",
   "execution_count": null,
   "id": "53b9cfb7",
   "metadata": {},
   "outputs": [],
   "source": []
  },
  {
   "cell_type": "code",
   "execution_count": 2,
   "id": "59fa4205",
   "metadata": {
    "code_folding": []
   },
   "outputs": [],
   "source": [
    "def cox_loss(est_lam):\n",
    "    li = 0\n",
    "    lams = [est_lam[0]]*num_m + [est_lam[1]]*num_f\n",
    "    fx_exp = np.exp(lams)\n",
    "    for i in range(len(obs_flag)):\n",
    "        if obs_flag[i] == True:\n",
    "            tp_li = fx_exp[i] / fx_exp[survs>=survs[i]].sum()\n",
    "            li += -np.log(tp_li)\n",
    "    return li"
   ]
  },
  {
   "cell_type": "code",
   "execution_count": 131,
   "id": "100e2930",
   "metadata": {},
   "outputs": [],
   "source": [
    "def get_time(uni_ran, tp_h, tp_num):\n",
    "    tp_surv = []\n",
    "    tp_int = lambda x: integrate.quad(tp_h, 0, x)[0]\n",
    "    tp_sf = lambda x: tp_int(x)+np.log(1-tp_r)\n",
    "    tp_rs = np.random.uniform(size=tp_num)\n",
    "    for tp_r in tp_rs:\n",
    "        tp_surv.append(fsolve(tp_sf, x0=1)[0])\n",
    "    return np.array(tp_surv)"
   ]
  },
  {
   "cell_type": "code",
   "execution_count": null,
   "id": "4cb0297e",
   "metadata": {},
   "outputs": [],
   "source": []
  },
  {
   "cell_type": "code",
   "execution_count": 5,
   "id": "9b27cee9",
   "metadata": {},
   "outputs": [],
   "source": [
    "from scipy import integrate\n",
    "from scipy.optimize import fsolve"
   ]
  },
  {
   "cell_type": "code",
   "execution_count": 34,
   "id": "9fe99a9e",
   "metadata": {},
   "outputs": [],
   "source": [
    "tp_hazard = lambda x: np.exp(1)\n",
    "tp_num = 1000\n",
    "\n",
    "tp_surv = []\n",
    "tp_int = lambda x: integrate.quad(tp_hazard, 0, x)[0]\n",
    "tp_sf = lambda x: tp_int(x)+np.log(1-tp_r)\n",
    "\n",
    "tp_rs = np.random.uniform(size=num_m)\n",
    "for tp_r in tp_rs:\n",
    "    tp_surv.append(fsolve(tp_sf, x0=1)[0])"
   ]
  },
  {
   "cell_type": "code",
   "execution_count": 132,
   "id": "1144d46b",
   "metadata": {
    "code_folding": [],
    "scrolled": true
   },
   "outputs": [
    {
     "name": "stdout",
     "output_type": "stream",
     "text": [
      "[7.02270421 5.00002919]\n",
      "2.022675013476631\n",
      "\n"
     ]
    }
   ],
   "source": [
    "lam_m= 3\n",
    "c_m = 5\n",
    "\n",
    "lam_f = 1\n",
    "c_f = 1\n",
    "\n",
    "base_h = lambda x: 1\n",
    "m_hazard = lambda x: base_h(x)*np.exp(lam_m)\n",
    "f_hazard = lambda x: base_h(x)*np.exp(lam_f)\n",
    "\n",
    "num_m = 1000\n",
    "num_f = 4000\n",
    "\n",
    "for i in range(1):\n",
    "    m_suv = get_time(np.random.uniform(size=num_m), m_hazard, num_m)\n",
    "    m_cen = np.random.exponential(scale=1/c_m, size=num_m)\n",
    "    m_obs = (m_suv<=m_cen)\n",
    "    m_suv[m_obs==False]=m_cen[m_obs==False]\n",
    "    \n",
    "    f_suv = get_time(np.random.uniform(size=num_f), f_hazard, num_f)\n",
    "    f_cen = np.random.exponential(scale=1/c_f, size=num_f)\n",
    "    f_obs = (f_suv<=f_cen)\n",
    "    f_suv[f_obs==False]=f_cen[f_obs==False]\n",
    "\n",
    "    survs = np.concatenate((m_suv, f_suv), axis=0)\n",
    "    obs_flag = np.concatenate((m_obs, f_obs), axis=0)\n",
    "    bnds = ((0, 20),)*2\n",
    "    res = OPT.minimize(cox_loss, [5, 5], method='Powell', bounds=bnds, tol=1e-3)\n",
    "    print(res.x)\n",
    "    print(res.x[0] - res.x[1])\n",
    "    print()"
   ]
  },
  {
   "cell_type": "code",
   "execution_count": null,
   "id": "be9a083f",
   "metadata": {},
   "outputs": [],
   "source": []
  },
  {
   "cell_type": "code",
   "execution_count": 133,
   "id": "22d24d80",
   "metadata": {},
   "outputs": [],
   "source": [
    "# estimation using breslow method\n",
    "def Breslow(ts, obs, hs):\n",
    "    est_ts = []\n",
    "    est_bh = []\n",
    "    for i in range(len(ts)):\n",
    "        t = ts[i]\n",
    "        if obs[i]:\n",
    "            tp_dom = np.exp(hs[ts>=t]).sum()\n",
    "            if len(est_ts) == 0:\n",
    "                est_bh.append(1/tp_dom)\n",
    "            else:\n",
    "                est_bh.append(1/tp_dom+est_bh[-1])\n",
    "            est_ts.append(t)\n",
    "    return np.array(est_ts), np.array(est_bh)"
   ]
  },
  {
   "cell_type": "code",
   "execution_count": 134,
   "id": "056ff4c8",
   "metadata": {},
   "outputs": [
    {
     "data": {
      "image/png": "[encoded data removed]",
      "text/plain": [
       "<Figure size 640x480 with 1 Axes>"
      ]
     },
     "metadata": {},
     "output_type": "display_data"
    }
   ],
   "source": [
    "zipped = sorted(zip(survs, obs_flag, [lam_m]*num_m+[lam_f]*num_f), key=lambda x: x[0])\n",
    "ts, obs, hs = [np.array([x[i] for x in zipped]) for i in range(3)]\n",
    "xs, ys = Breslow(ts, obs, hs)\n",
    "plt.plot(xs, ys)\n",
    "plt.plot(xs, [integrate.quad(base_h, 0, x)[0] for x in xs])\n",
    "# plt.xlim(0,1.5)\n",
    "plt.show()"
   ]
  },
  {
   "cell_type": "code",
   "execution_count": null,
   "id": "31b60ebc",
   "metadata": {},
   "outputs": [],
   "source": []
  },
  {
   "cell_type": "code",
   "execution_count": null,
   "id": "6a5f0523",
   "metadata": {},
   "outputs": [],
   "source": []
  }
 ],
 "metadata": {
  "kernelspec": {
   "display_name": "Python 3 (ipykernel)",
   "language": "python",
   "name": "python3"
  },
  "language_info": {
   "codemirror_mode": {
    "name": "ipython",
    "version": 3
   },
   "file_extension": ".py",
   "mimetype": "text/x-python",
   "name": "python",
   "nbconvert_exporter": "python",
   "pygments_lexer": "ipython3",
   "version": "3.8.19"
  }
 },
 "nbformat": 4,
 "nbformat_minor": 5
}
