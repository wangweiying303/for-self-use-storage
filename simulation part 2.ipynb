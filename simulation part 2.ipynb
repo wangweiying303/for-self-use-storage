{
 "cells": [
  {
   "cell_type": "code",
   "execution_count": 1,
   "id": "ea496df4",
   "metadata": {},
   "outputs": [],
   "source": [
    "import matplotlib.pyplot as plt\n",
    "import pickle as pkl\n",
    "import numpy as np\n",
    "import time\n",
    "import scipy.optimize as optimize\n",
    "import math"
   ]
  },
  {
   "cell_type": "code",
   "execution_count": 2,
   "id": "0060e23d",
   "metadata": {
    "code_folding": [
     1
    ]
   },
   "outputs": [
    {
     "name": "stdout",
     "output_type": "stream",
     "text": [
      "(5000000, 184)\n"
     ]
    }
   ],
   "source": [
    "# read movement data\n",
    "with open(\"data/movements/a=3 b=1 p=0.025 gam=1.5/sample_movements.pkl\", \"rb\") as file:\n",
    "    movements = pkl.load(file)\n",
    "print(movements.shape)\n",
    "# get weather\n",
    "with open(\"data/weather_crawl_all.pkl\", \"rb\") as file:\n",
    "    weather = pkl.load(file)\n",
    "    \n",
    "# conver weather into dictionary form\n",
    "w_data = {}\n",
    "for tp_loc in weather:\n",
    "    tp_w = {}\n",
    "    for tp_ym in weather[tp_loc]:\n",
    "        for tp_data in weather[tp_loc][tp_ym]:\n",
    "            tp_dt = tp_data['ds'].replace(\"年\",\",\").replace(\"月\",\",\").replace(\"日\",\",\").split(\",\")\n",
    "            tp_t = int(tp_data['ts'][:-1])\n",
    "            tp_key = (int(tp_dt[0]), int(tp_dt[1]), int(tp_dt[2]), tp_t)\n",
    "            tp_w[tp_key] = tp_data\n",
    "    w_data[tp_loc] = tp_w\n",
    "    \n",
    "# read data\n",
    "with open(\"data/boundary.pkl\", \"rb\") as file:\n",
    "    dis_bd = pkl.load(file)\n",
    "\n",
    "locs = []\n",
    "for tp_dis in dis_bd:\n",
    "    locs.append(tp_dis)"
   ]
  },
  {
   "cell_type": "code",
   "execution_count": 14,
   "id": "7d1eb79d",
   "metadata": {},
   "outputs": [],
   "source": [
    "with open(\"data/district_population.pkl\", \"rb\") as file:\n",
    "    dis_pop = pkl.load(file)\n",
    "    \n",
    "with open(\"data/boundary.pkl\", \"rb\") as file:\n",
    "    dis_bd = pkl.load(file)\n",
    "    \n",
    "locs = []\n",
    "for tp_dis in dis_bd:\n",
    "    locs.append(tp_dis)\n",
    "pops = np.array([dis_pop[tp_dis] for tp_dis in locs])"
   ]
  },
  {
   "cell_type": "code",
   "execution_count": null,
   "id": "7a4b7cd9",
   "metadata": {},
   "outputs": [],
   "source": []
  },
  {
   "cell_type": "code",
   "execution_count": 3,
   "id": "4c6a6c9b",
   "metadata": {
    "code_folding": [
     3,
     6
    ]
   },
   "outputs": [],
   "source": [
    "temperature_M = np.zeros((len(locs), movements.shape[1]-37))-1\n",
    "humidity_M = np.zeros((len(locs), movements.shape[1]-37))-1\n",
    "yms = [(2021,9), (2021,10), (2021,11), (2021,12), (2022,1)] # year and month\n",
    "month_days = {(2021,9):(7,30), (2021,10):(1,31), \n",
    "              (2021,11):(1,30), (2021,12):(1,31), (2022,1):(1,31)} # numebr of days in each month\n",
    "time_ex = [0, 6, 12, 18]\n",
    "for i in range(len(locs)):\n",
    "    tp_loc = locs[i]\n",
    "    tp_dict = weather[tp_loc]\n",
    "    tp_ct = 0 # count for the index of temperature/humidity matrix\n",
    "    for tp_ym in yms:\n",
    "        for tp_d in range(month_days[tp_ym][0], month_days[tp_ym][1]+1):\n",
    "            tp_temp = 0\n",
    "            tp_hum = 0\n",
    "            for tp_t in time_ex:\n",
    "                tp_key = (tp_ym[0], tp_ym[1], tp_d, tp_t)\n",
    "                if w_data[tp_loc][tp_key][\"desc\"] == \"No weather data available\":\n",
    "                    tp_temp = -100000\n",
    "                    tp_hum = -100000\n",
    "                    break\n",
    "                else:\n",
    "                    tp_temp += w_data[tp_loc][tp_key][\"temp\"]\n",
    "                    tp_hum += w_data[tp_loc][tp_key][\"temp\"]\n",
    "            tp_temp /= 4\n",
    "            tp_hum /= 4\n",
    "            temperature_M[i][tp_ct] = tp_temp\n",
    "            humidity_M[i][tp_ct] = tp_temp\n",
    "            tp_ct += 1\n",
    "            \n",
    "# interpolate temperature and humidity\n",
    "for i in range(temperature_M.shape[1]):\n",
    "    temp_index = (temperature_M[:, i]<-300)\n",
    "    hum_index = (humidity_M[:, i]<-300)\n",
    "    temperature_M[temp_index, i] = temperature_M[(temp_index==False),i].mean()\n",
    "    humidity_M[hum_index, i] = humidity_M[(hum_index==False),i].mean()"
   ]
  },
  {
   "cell_type": "code",
   "execution_count": 4,
   "id": "a31f7393",
   "metadata": {},
   "outputs": [
    {
     "name": "stdout",
     "output_type": "stream",
     "text": [
      "0\n",
      "0\n"
     ]
    }
   ],
   "source": [
    "print((temperature_M<0).sum())\n",
    "print((humidity_M<0).sum())"
   ]
  },
  {
   "cell_type": "code",
   "execution_count": null,
   "id": "c31d63e1",
   "metadata": {},
   "outputs": [],
   "source": []
  },
  {
   "cell_type": "code",
   "execution_count": null,
   "id": "b88c1327",
   "metadata": {},
   "outputs": [],
   "source": []
  },
  {
   "cell_type": "code",
   "execution_count": 5,
   "id": "d6fa01ec",
   "metadata": {},
   "outputs": [],
   "source": [
    "# read estimated infections\n",
    "with open(\"data/estimated_infection_bdis_bday.pkl\", \"rb\") as file:\n",
    "    infections = pkl.load(file)\n",
    "    \n",
    "# process infections into matrix\n",
    "# the average for one week on 9/7\n",
    "tp_time_tx = \"2021/9/\"\n",
    "inf_dates = [tp_time_tx+str(i) for i in range(4,11)]\n",
    "initial_infections = np.array([sum([infections[tp_loc][tp_dt] for tp_dt in inf_dates])/len(inf_dates) for tp_loc in locs])"
   ]
  },
  {
   "cell_type": "code",
   "execution_count": 6,
   "id": "0e28e3a4",
   "metadata": {
    "collapsed": true
   },
   "outputs": [
    {
     "data": {
      "text/plain": [
       "array([ 1.08468874,  1.08468874,  6.92564678,  9.76219868,  3.02223913,\n",
       "        1.05775326,  1.86815283,  1.41070427,  0.        ,  2.32794433,\n",
       "        2.90672893,  0.49083945,  4.45900688,  5.65682713,  8.33129362,\n",
       "        3.41532325,  6.50813245, 14.58196266, 10.4030451 ,  5.82897346,\n",
       "        9.16446978,  3.70982132,  5.42344371,  5.599281  ,  3.2303465 ,\n",
       "        2.31106945,  2.39451747,  2.16937748,  1.73779545,  1.00383134,\n",
       "        3.74345135,  2.23362693,  0.        ,  4.85699402,  5.94319081,\n",
       "        3.15603954,  3.40585209,  1.75398229,  0.10707512,  4.35455356,\n",
       "        3.00476033,  2.61190242,  5.10589403,  2.41088357,  0.70647188,\n",
       "        1.99893869,  2.85674476,  1.65506381,  4.71328552,  8.02237772,\n",
       "       13.78351937,  7.55552546, 23.86315233,  5.21337124, 21.69377484])"
      ]
     },
     "execution_count": 6,
     "metadata": {},
     "output_type": "execute_result"
    }
   ],
   "source": [
    "initial_infections"
   ]
  },
  {
   "cell_type": "code",
   "execution_count": 8,
   "id": "bc32643b",
   "metadata": {},
   "outputs": [],
   "source": [
    "pts = [[10.54,0.07585], [10.76,0.09169], [15.3, 0.03608], [16.52, 0.03266], [20.05, 0.04216], [21.79, 0.03718], [25.64, 0.03043],\n",
    "      [27.64, 0.02709], [31.33, 0.04391], [31.65, 0.03417], [32.55, 0.04438], [33.41, 0.04983]]\n",
    "real = np.array(pts)\n",
    "x = real[:, 0]\n",
    "y = real[:, 1]\n",
    "def base_func(x, b0, b1, b2, b3, b4):\n",
    "    y = b0 + b1*x + b2*x**2 + b3*x**3 + b4*x**4\n",
    "    return y\n",
    "\n",
    "cf = optimize.curve_fit(f=base_func, xdata=x, ydata=y, p0=[1,1,1,1,1])"
   ]
  },
  {
   "cell_type": "code",
   "execution_count": 9,
   "id": "dcd2d0c0",
   "metadata": {},
   "outputs": [
    {
     "data": {
      "text/plain": [
       "array([ 8.59455846e-01, -1.53928039e-01,  1.05994167e-02, -3.18278157e-04,\n",
       "        3.51061475e-06])"
      ]
     },
     "execution_count": 9,
     "metadata": {},
     "output_type": "execute_result"
    }
   ],
   "source": [
    "cf[0]"
   ]
  },
  {
   "cell_type": "code",
   "execution_count": 18,
   "id": "0bb22fcb",
   "metadata": {
    "code_folding": []
   },
   "outputs": [],
   "source": [
    "# defined the functions for time-varying variables\n",
    "E_v_a = lambda T: 0.131-0.05723*T+0.01164*T**2-0.001341*T**3+0.00008723*T**4 - 0.000003017*T**5 + 5.153*10**(-8)*T**6 - 3.42*10**(-10)*T**7\n",
    "U_v_a = lambda T: 2.13 - 0.3797*T + 0.02457*T**2 - 0.0006778*T**3 + 0.000006794*T**4\n",
    "U_v_v = lambda T: 0.8595 - 0.1539*T + 0.01060*T**2 - 0.0003183*T**3 + 0.000003511*T**4\n",
    "theta_v_v = lambda T: -5.4 + 1.8*T - 0.2124*T**2 + 0.01015*T**3 - 0.0001515*T**4\n",
    "def r_v_v(T):\n",
    "    K = T+273.15\n",
    "    R = 1.987\n",
    "    inc = 0.003359*K/298*np.exp((15000/R*(1/298-\n",
    "                                          1/K)))/(1+np.exp(6.203*10**21/R*\n",
    "                                                           (1/(-2.176*10**30)-1/K)))\n",
    "    return inc*24\n",
    "\n",
    "phi_hu_to_vec = lambda T: 0.001044*T*(T-12.286)*(32.461-T)**0.5 # this can be negative!\n",
    "phi_vec_to_hu = lambda T: 0.0729*T - 0.97 # this is a bit weird"
   ]
  },
  {
   "cell_type": "code",
   "execution_count": 59,
   "id": "5e039542",
   "metadata": {},
   "outputs": [
    {
     "data": {
      "image/png": "[encoded data removed]",
      "text/plain": [
       "<Figure size 640x480 with 1 Axes>"
      ]
     },
     "metadata": {},
     "output_type": "display_data"
    }
   ],
   "source": [
    "xs  = [i/10 for i in range(-100,400)]\n",
    "plt.plot(xs, [r_v_v(x) for x in xs])\n",
    "plt.xlim(-10,40)\n",
    "plt.show()"
   ]
  },
  {
   "cell_type": "code",
   "execution_count": 60,
   "id": "6d0fcacc",
   "metadata": {},
   "outputs": [],
   "source": [
    "initial_T = temperature_M[:,0] # initial temperature"
   ]
  },
  {
   "cell_type": "code",
   "execution_count": 61,
   "id": "3f5b855b",
   "metadata": {},
   "outputs": [],
   "source": [
    "mos_per = 0.02 # number of mosquitos per person (to be optimized)\n",
    "a = 0.4 # mosquito bites per day (to be optimized)\n",
    "\n",
    "K = pops*mos_per # carrying capacity of mosquitos\n",
    "r_h = 0.5 # 1/r_h: average human incubation period\n",
    "sigma_h = 0.25 # 1/sigma_h: average infection period\n",
    "c = 1\n",
    "f = 1\n",
    "\n",
    "initial_T = temperature_M[:,0] # initial temperature\n",
    "# WARNING: something strange: too many mosquitos\n",
    "Q0 = E_v_a(initial_T)/(E_v_a(initial_T)+U_v_a(initial_T))*c*f*theta_v_v(initial_T)/U_v_v(initial_T)\n",
    "current_mos_Aqua = K*(1-1/Q0) # aquatic mosquitos\n",
    "current_mos_Adul = K*(1-1/Q0)*E_v_a(initial_T)/U_v_v(initial_T) # adult femal mosquitos"
   ]
  },
  {
   "cell_type": "code",
   "execution_count": 62,
   "id": "8337dd78",
   "metadata": {},
   "outputs": [
    {
     "data": {
      "text/plain": [
       "array([271279.27504881, 152351.48687325, 176860.61273004, 150032.91535237,\n",
       "       166913.69491837, 198118.88961196,  76479.82131549, 171618.82409376,\n",
       "       204776.63238581,  96855.95492765, 191910.8592893 ,  79284.43917139,\n",
       "       138038.28285043,  83406.67753015, 158562.26093885,  86707.25247386,\n",
       "       374895.45259047, 250082.27980924, 117278.41600458, 149887.49692636,\n",
       "       214300.07959014, 193303.54565576, 200299.25219225, 288262.72126957,\n",
       "       151199.2879904 , 123448.68425137, 127772.58586754, 156661.70626267,\n",
       "        80747.46949008,  43675.57321519, 183817.79373096,  65268.38897891,\n",
       "       142026.09215108, 200045.98470099, 255018.26858563, 128946.78593089,\n",
       "       118739.42044881,  70551.96326137,   4598.47157992, 201637.92174227,\n",
       "       144642.59410573, 116302.70527524, 278335.50001862, 115672.30941129,\n",
       "        45983.85166244,  85872.15169155, 122184.46719629,  73768.44493749,\n",
       "        65361.06319218, 178908.7128433 , 153359.91960875,  94512.48065813,\n",
       "       166478.24052861, 107708.37332687, 227322.29391845])"
      ]
     },
     "execution_count": 62,
     "metadata": {},
     "output_type": "execute_result"
    }
   ],
   "source": [
    "current_mos_Aqua+current_mos_Adul"
   ]
  },
  {
   "cell_type": "code",
   "execution_count": 63,
   "id": "6ca5d26f",
   "metadata": {},
   "outputs": [
    {
     "data": {
      "text/plain": [
       "array([2768908.06002472, 1555029.44293915, 1805190.52183771,\n",
       "       1531364.12102782, 1703663.7800835 , 2295845.69050176,\n",
       "        803279.15101158, 1988757.04621787, 2372997.09229766,\n",
       "        986867.86345571, 2015668.8322256 ,  918765.6883803 ,\n",
       "       1449836.99945882,  851319.81288122, 1618421.90948909,\n",
       "        885008.30074197, 3826503.29686111, 2552553.41606378,\n",
       "       1197043.71549792, 1529879.85632763, 2187329.70859757,\n",
       "       1987230.74097543, 2004647.20339761, 2876611.25811197,\n",
       "       1508837.3971359 , 1231910.50633466, 1275059.28399574,\n",
       "       1610539.30781618,  822738.08311168,  437116.53810166,\n",
       "       1839696.46468676,  666184.94271636, 1449639.64246879,\n",
       "       2041840.23757249, 2602934.33478565, 1316141.06832926,\n",
       "       1375978.77347293,  720113.61608746,   46935.9298426 ,\n",
       "       2058088.90715425, 1476345.8969366 , 1187084.77815473,\n",
       "       2777546.22366538, 1214923.79167776,  472730.71635628,\n",
       "        874953.60438586, 1244940.73884819,  752943.77621049,\n",
       "        667130.85491711, 1826095.18147426, 1565322.3690347 ,\n",
       "        964675.12831616, 1699219.16053282, 1099363.68336009,\n",
       "       2320245.55410972])"
      ]
     },
     "execution_count": 63,
     "metadata": {},
     "output_type": "execute_result"
    }
   ],
   "source": [
    "pops"
   ]
  },
  {
   "cell_type": "code",
   "execution_count": null,
   "id": "0830c67c",
   "metadata": {},
   "outputs": [],
   "source": []
  },
  {
   "cell_type": "code",
   "execution_count": null,
   "id": "34fef42f",
   "metadata": {},
   "outputs": [],
   "source": []
  }
 ],
 "metadata": {
  "kernelspec": {
   "display_name": "Python 3 (ipykernel)",
   "language": "python",
   "name": "python3"
  },
  "language_info": {
   "codemirror_mode": {
    "name": "ipython",
    "version": 3
   },
   "file_extension": ".py",
   "mimetype": "text/x-python",
   "name": "python",
   "nbconvert_exporter": "python",
   "pygments_lexer": "ipython3",
   "version": "3.8.19"
  }
 },
 "nbformat": 4,
 "nbformat_minor": 5
}
