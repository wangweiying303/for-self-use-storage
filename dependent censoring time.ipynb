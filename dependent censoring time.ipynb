{
 "cells": [
  {
   "cell_type": "code",
   "execution_count": 1,
   "id": "f5f2a52c",
   "metadata": {},
   "outputs": [],
   "source": [
    "import numpy as np\n",
    "import scipy.optimize as OPT\n",
    "import matplotlib.pyplot as plt"
   ]
  },
  {
   "cell_type": "code",
   "execution_count": null,
   "id": "53b9cfb7",
   "metadata": {},
   "outputs": [],
   "source": []
  },
  {
   "cell_type": "code",
   "execution_count": 2,
   "id": "59fa4205",
   "metadata": {
    "code_folding": []
   },
   "outputs": [],
   "source": [
    "def cox_loss(est_lam):\n",
    "    li = 0\n",
    "    lams = [est_lam[0]]*num_m + [est_lam[1]]*num_f\n",
    "    fx_exp = np.exp(lams)\n",
    "    for i in range(len(obs_flag)):\n",
    "        if obs_flag[i] == True:\n",
    "            tp_li = fx_exp[i] / fx_exp[survs>=survs[i]].sum()\n",
    "            li += -np.log(tp_li)\n",
    "    return li"
   ]
  },
  {
   "cell_type": "code",
   "execution_count": null,
   "id": "27550286",
   "metadata": {},
   "outputs": [],
   "source": []
  },
  {
   "cell_type": "code",
   "execution_count": 3,
   "id": "100e2930",
   "metadata": {},
   "outputs": [],
   "source": [
    "def get_time(uni_ran, exp_w):\n",
    "    return -np.log(1-uni_ran)/exp_w"
   ]
  },
  {
   "cell_type": "code",
   "execution_count": 4,
   "id": "1144d46b",
   "metadata": {
    "code_folding": [],
    "scrolled": true
   },
   "outputs": [
    {
     "name": "stdout",
     "output_type": "stream",
     "text": [
      "[6.96292493 4.99995957]\n",
      "1.9629653607737056\n",
      "\n",
      "[6.94477773 4.99997733]\n",
      "1.9448003974843306\n",
      "\n",
      "[6.99086517 4.99996271]\n",
      "1.9909024627267273\n",
      "\n",
      "[7.0522675  5.00005004]\n",
      "2.0522174571316976\n",
      "\n",
      "[6.99512122 4.99997625]\n",
      "1.9951449676436965\n",
      "\n",
      "[7.02162887 5.00003243]\n",
      "2.0215964421425223\n",
      "\n",
      "[6.99821116 4.99999111]\n",
      "1.998220051384183\n",
      "\n",
      "[6.94581073 5.00000979]\n",
      "1.9458009431798073\n",
      "\n",
      "[7.04429053 4.99997077]\n",
      "2.0443197634595505\n",
      "\n",
      "[6.9781776  4.99996356]\n",
      "1.9782140407344757\n",
      "\n"
     ]
    }
   ],
   "source": [
    "lam_m= 3\n",
    "c_m = 5\n",
    "\n",
    "lam_f = 1\n",
    "c_f = 1\n",
    "\n",
    "num_m = 1000\n",
    "num_f = 1000\n",
    "\n",
    "\n",
    "for i in range(10):\n",
    "    m_suv = get_time(np.random.uniform(size=num_m), np.exp([lam_m]*num_m))\n",
    "    m_cen = np.random.exponential(scale=1/c_m, size=num_m)\n",
    "    m_obs = (m_suv<=m_cen)\n",
    "    m_suv[m_obs==False]=m_cen[m_obs==False]\n",
    "    \n",
    "    f_suv = get_time(np.random.uniform(size=num_f), np.exp([lam_f]*num_f))\n",
    "    f_cen = np.random.exponential(scale=1/c_f, size=num_f)\n",
    "    f_obs = (f_suv<=f_cen)\n",
    "    f_suv[f_obs==False]=f_cen[f_obs==False]\n",
    "\n",
    "    survs = np.concatenate((m_suv, f_suv), axis=0)\n",
    "    obs_flag = np.concatenate((m_obs, f_obs), axis=0)\n",
    "    bnds = ((0, 20),)*2\n",
    "    res = OPT.minimize(cox_loss, [5, 5], method='Powell', bounds=bnds, tol=1e-3)\n",
    "    print(res.x)\n",
    "    print(res.x[0] - res.x[1])\n",
    "    print()"
   ]
  },
  {
   "cell_type": "code",
   "execution_count": null,
   "id": "be9a083f",
   "metadata": {},
   "outputs": [],
   "source": []
  },
  {
   "cell_type": "code",
   "execution_count": 9,
   "id": "1a3d98c2",
   "metadata": {},
   "outputs": [],
   "source": [
    "def L_loss(est_lam): #likelihood\n",
    "    lams = [est_lam[0]]*num_m + [est_lam[1]]*num_f\n",
    "    fx_exp = np.exp(lams)\n",
    "    ob_part = (np.log(fx_exp)+(-survs*fx_exp))*obs_flag\n",
    "    un_part = -survs*fx_exp*(1-obs_flag)\n",
    "    return -(ob_part.sum()+un_part.sum())"
   ]
  },
  {
   "cell_type": "code",
   "execution_count": 23,
   "id": "801f7982",
   "metadata": {},
   "outputs": [
    {
     "name": "stdout",
     "output_type": "stream",
     "text": [
      "[2.97294352 0.9932554 ]\n",
      "1.9796881179669392\n",
      "\n",
      "[3.04678199 1.03133946]\n",
      "2.0154425339984003\n",
      "\n",
      "[2.95147597 1.01041342]\n",
      "1.9410625554536534\n",
      "\n",
      "[3.04088428 1.0013669 ]\n",
      "2.0395173817182437\n",
      "\n",
      "[2.98794738 1.00060398]\n",
      "1.9873433947729926\n",
      "\n",
      "[2.99941392 1.00247155]\n",
      "1.9969423687640897\n",
      "\n",
      "[3.06222725 0.98186119]\n",
      "2.080366063933166\n",
      "\n",
      "[2.97762851 1.01984308]\n",
      "1.9577854317664891\n",
      "\n",
      "[3.02639636 0.95978425]\n",
      "2.066612111363293\n",
      "\n",
      "[2.97691197 1.01498891]\n",
      "1.9619230582094387\n",
      "\n"
     ]
    }
   ],
   "source": [
    "lam_m= 3\n",
    "c_m = 3\n",
    "\n",
    "lam_f = 1\n",
    "c_f = 1\n",
    "\n",
    "num_m = 1000\n",
    "num_f = 1000\n",
    "\n",
    "for i in range(10):\n",
    "    m_suv = get_time(np.random.uniform(size=num_m), np.exp([lam_m]*num_m))\n",
    "    m_cen = np.random.exponential(scale=1/c_m, size=num_m)\n",
    "    m_obs = (m_suv<=m_cen)\n",
    "    m_suv[m_obs==False]=m_cen[m_obs==False]\n",
    "    \n",
    "    f_suv = get_time(np.random.uniform(size=num_f), np.exp([lam_f]*num_f))\n",
    "    f_cen = np.random.exponential(scale=1/c_f, size=num_f)\n",
    "    f_obs = (f_suv<=f_cen)\n",
    "    f_suv[f_obs==False]=f_cen[f_obs==False]\n",
    "\n",
    "    survs = np.concatenate((m_suv, f_suv), axis=0)\n",
    "    obs_flag = np.concatenate((m_obs, f_obs), axis=0)\n",
    "    bnds = ((0, 20),)*2\n",
    "    res = OPT.minimize(L_loss, [5, 5], method='Powell', bounds=bnds, tol=1e-7)\n",
    "    print(res.x)\n",
    "    print(res.x[0] - res.x[1])\n",
    "    print()"
   ]
  },
  {
   "cell_type": "code",
   "execution_count": null,
   "id": "fe593074",
   "metadata": {},
   "outputs": [],
   "source": []
  },
  {
   "cell_type": "code",
   "execution_count": null,
   "id": "f6ab0ec7",
   "metadata": {},
   "outputs": [],
   "source": []
  },
  {
   "cell_type": "code",
   "execution_count": 47,
   "id": "4c43f193",
   "metadata": {},
   "outputs": [
    {
     "data": {
      "image/png": "[encoded data removed]",
      "text/plain": [
       "<Figure size 640x480 with 2 Axes>"
      ]
     },
     "metadata": {},
     "output_type": "display_data"
    }
   ],
   "source": [
    "# comparison of the two losses\n",
    "diff = np.array([i/5 for i in range(0,20)])\n",
    "x=3\n",
    "# plt.plot(diff, [cox_loss((x,x-d)) for d in diff])\n",
    "# plt.plot(diff, [L_loss((x,x-d)) for d in diff])\n",
    "\n",
    "fig = plt.figure()\n",
    "ax = fig.add_subplot(111)\n",
    "ax.plot(diff, [cox_loss((x,x-d)) for d in diff], '-', label = 'cox loss')\n",
    "ax2 = ax.twinx()\n",
    "ax2.plot(diff, [L_loss((x,x-d)) for d in diff], '-r', label = 'lilekihood loss')\n",
    "ax.legend(loc=0)\n",
    "ax2.legend(loc=3)\n",
    "plt.show()"
   ]
  },
  {
   "cell_type": "code",
   "execution_count": null,
   "id": "22d24d80",
   "metadata": {},
   "outputs": [],
   "source": []
  }
 ],
 "metadata": {
  "kernelspec": {
   "display_name": "Python 3 (ipykernel)",
   "language": "python",
   "name": "python3"
  },
  "language_info": {
   "codemirror_mode": {
    "name": "ipython",
    "version": 3
   },
   "file_extension": ".py",
   "mimetype": "text/x-python",
   "name": "python",
   "nbconvert_exporter": "python",
   "pygments_lexer": "ipython3",
   "version": "3.8.19"
  }
 },
 "nbformat": 4,
 "nbformat_minor": 5
}
